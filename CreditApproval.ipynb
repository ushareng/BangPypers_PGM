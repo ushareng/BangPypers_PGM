{
 "cells": [
  {
   "cell_type": "code",
   "execution_count": 1,
   "metadata": {},
   "outputs": [],
   "source": [
    "from pgmpy.factors.discrete import TabularCPD\n",
    "from pgmpy.models import BayesianModel\n",
    "\n",
    "credit_rating_cpd = TabularCPD(\n",
    "                variable='CR',\n",
    "                variable_card=4,\n",
    "                values=[[0.85, 0.04, 0.12, 0.02, 0.13, 0.01],\n",
    "                        [0.1, 0.07, 0.65, 0.07, 0.2, 0.04],\n",
    "                        [0.04, 0.75, 0.15, 0.25, 0.45, 0.25],\n",
    "                        [0.01, 0.14, 0.08, 0.66, 0.22, 0.7]],\n",
    "                evidence=['OL', 'PH'],\n",
    "                evidence_card=[3, 2])\n",
    "credit_rating_cpd = TabularCPD(variable='CR', variable_card=4,\n",
    "                values=[[0.85, 0.04, 0.12, 0.02, 0.13, 0.01],\n",
    "                        [0.1, 0.07, 0.65, 0.07, 0.2, 0.04],\n",
    "                        [0.04, 0.75, 0.15, 0.25, 0.45, 0.25],\n",
    "                        [0.01, 0.14, 0.08, 0.66, 0.22, 0.7]],\n",
    "                evidence=['OL', 'PH'], evidence_card=[3, 2])\n",
    "\n",
    "interest_rate_cpd = TabularCPD(variable='IR', variable_card=3,\n",
    "                values=[[0.01, 0.05, 0.12, 0.02, 0.05, 0.15, 0.3, 0.4, 0.55, 0.57, 0.83, 0.94],\n",
    "                        [0.09, 0.7, 0.7, 0.23, 0.4, 0.45, 0.6, 0.55, 0.4, 0.4, 0.15, 0.05],\n",
    "                        [0.9, 0.25, 0.18, 0.75, 0.55, 0.4, 0.1, 0.05, 0.05, 0.03, 0.02, 0.01]],\n",
    "                evidence=['CR', 'IL'], evidence_card=[4, 3])\n",
    "\n",
    "Outstanding_loan_cpd = TabularCPD(variable='OL', variable_card=3, values=[[0.15, 0.55, 0.3]])\n",
    "\n",
    "Payment_history_cpd = TabularCPD(variable='PH', variable_card=2, values=[[0.8, 0.2]])\n",
    "\n",
    "Income_level_cpd = TabularCPD(variable='IL', variable_card=3, values=[[0.1, 0.6, 0.3]])"
   ]
  },
  {
   "cell_type": "code",
   "execution_count": 10,
   "metadata": {},
   "outputs": [],
   "source": [
    "credit_approval_model = BayesianModel([('OL', 'CR'),\n",
    "                             ('PH', 'CR'),\n",
    "                             ('IL', 'IR'),\n",
    "                             ('CR', 'IR')])"
   ]
  },
  {
   "cell_type": "code",
   "execution_count": 3,
   "metadata": {},
   "outputs": [
    {
     "data": {
      "text/plain": [
       "True"
      ]
     },
     "execution_count": 3,
     "metadata": {},
     "output_type": "execute_result"
    }
   ],
   "source": [
    "credit_approval_model.add_cpds(credit_rating_cpd, interest_rate_cpd, Outstanding_loan_cpd, Payment_history_cpd, Income_level_cpd)\n",
    "credit_approval_model.check_model()"
   ]
  },
  {
   "cell_type": "code",
   "execution_count": 6,
   "metadata": {},
   "outputs": [
    {
     "name": "stdout",
     "output_type": "stream",
     "text": [
      "╒══════╤═══════════╕\n",
      "│ IR   │   phi(IR) │\n",
      "╞══════╪═══════════╡\n",
      "│ IR_0 │    0.1626 │\n",
      "├──────┼───────────┤\n",
      "│ IR_1 │    0.5751 │\n",
      "├──────┼───────────┤\n",
      "│ IR_2 │    0.2623 │\n",
      "╘══════╧═══════════╛\n"
     ]
    }
   ],
   "source": [
    "from pgmpy.inference.base import Inference\n",
    "from pgmpy.factors import factor_product\n",
    "\n",
    "import itertools\n",
    "\n",
    "\n",
    "class SimpleInference(Inference):\n",
    "    def query(self, var, evidence):\n",
    "        # self.factors is a dict of the form of {node: [factors_involving_node]}\n",
    "        factors_list = set(itertools.chain(*self.factors.values()))\n",
    "        product = factor_product(*factors_list)\n",
    "        reduced_prod = product.reduce(evidence, inplace=False)\n",
    "        reduced_prod.normalize()\n",
    "        var_to_marg = set(self.model.nodes()) - set(var) - set([state[0] for state in evidence])\n",
    "        marg_prod = reduced_prod.marginalize(var_to_marg, inplace=False)\n",
    "        return marg_prod\n",
    "    \n",
    "infer = SimpleInference(credit_approval_model)\n",
    "ir = infer.query(var=['IR'], evidence=[('OL', 0)])\n",
    "print(ir)"
   ]
  },
  {
   "cell_type": "code",
   "execution_count": 7,
   "metadata": {},
   "outputs": [
    {
     "name": "stdout",
     "output_type": "stream",
     "text": [
      "╒══════╤═══════════╕\n",
      "│ IR   │   phi(IR) │\n",
      "╞══════╪═══════════╡\n",
      "│ IR_0 │    0.0670 │\n",
      "├──────┼───────────┤\n",
      "│ IR_1 │    0.6390 │\n",
      "├──────┼───────────┤\n",
      "│ IR_2 │    0.2940 │\n",
      "╘══════╧═══════════╛\n"
     ]
    }
   ],
   "source": [
    "infer = SimpleInference(credit_approval_model)\n",
    "ir = infer.query(var=['IR'], evidence=[('OL', 0),('CR', 0)])\n",
    "print(ir)"
   ]
  },
  {
   "cell_type": "code",
   "execution_count": 8,
   "metadata": {},
   "outputs": [
    {
     "name": "stdout",
     "output_type": "stream",
     "text": [
      "╒══════╤═══════════╕\n",
      "│ IR   │   phi(IR) │\n",
      "╞══════╪═══════════╡\n",
      "│ IR_0 │    0.0670 │\n",
      "├──────┼───────────┤\n",
      "│ IR_1 │    0.6390 │\n",
      "├──────┼───────────┤\n",
      "│ IR_2 │    0.2940 │\n",
      "╘══════╧═══════════╛\n"
     ]
    }
   ],
   "source": [
    "infer = SimpleInference(credit_approval_model)\n",
    "ir = infer.query(var=['IR'], evidence=[('OL', 2), ('CR', 0)])\n",
    "print(ir)"
   ]
  },
  {
   "cell_type": "code",
   "execution_count": null,
   "metadata": {},
   "outputs": [],
   "source": []
  }
 ],
 "metadata": {
  "kernelspec": {
   "display_name": "Python 3",
   "language": "python",
   "name": "python3"
  },
  "language_info": {
   "codemirror_mode": {
    "name": "ipython",
    "version": 3
   },
   "file_extension": ".py",
   "mimetype": "text/x-python",
   "name": "python",
   "nbconvert_exporter": "python",
   "pygments_lexer": "ipython3",
   "version": "3.6.4"
  }
 },
 "nbformat": 4,
 "nbformat_minor": 2
}
